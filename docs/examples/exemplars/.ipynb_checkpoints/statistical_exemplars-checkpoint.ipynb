{
 "cells": [
  {
   "cell_type": "markdown",
   "metadata": {},
   "source": [
    "This example will build an exemplar sample set on a \"bytes in\" counter aggregator, which just sums up the number of bytes sent into our \"application\".\n",
    "We will use these statistical exemplars to generate insights into the data that was aggregated away.\n",
    "\n",
    "We'll start by importing everything we will need from opentelemetry to create the metrics:"
   ]
  },
  {
   "cell_type": "code",
   "execution_count": 48,
   "metadata": {},
   "outputs": [],
   "source": [
    "import numpy as np\n",
    "import matplotlib.pyplot as plt\n",
    "import random\n",
    "\n",
    "from collections import defaultdict\n",
    "\n",
    "from opentelemetry import metrics\n",
    "from opentelemetry.sdk.metrics import Counter, MeterProvider\n",
    "from opentelemetry.sdk.metrics.export.aggregate import SumAggregator\n",
    "from opentelemetry.sdk.metrics.export.controller import PushController\n",
    "from opentelemetry.sdk.metrics.export.in_memory_metrics_exporter import InMemoryMetricsExporter\n",
    "from opentelemetry.sdk.metrics.view import View, ViewConfig"
   ]
  },
  {
   "cell_type": "markdown",
   "metadata": {},
   "source": [
    "We can then set up an in-memory metrics exporter so we can analyze the exemplar data in-service:"
   ]
  },
  {
   "cell_type": "code",
   "execution_count": 49,
   "metadata": {},
   "outputs": [
    {
     "name": "stderr",
     "output_type": "stream",
     "text": [
      "Overriding current MeterProvider\n"
     ]
    }
   ],
   "source": [
    "## set up opentelemetry\n",
    "\n",
    "# Sets the global MeterProvider instance\n",
    "metrics.set_meter_provider(MeterProvider())\n",
    "\n",
    "meter = metrics.get_meter(__name__)\n",
    "\n",
    "# Export to a python list so we can do stats with the data\n",
    "exporter = InMemoryMetricsExporter()\n",
    "\n",
    "# instead of waiting for the controller to tick over time, we will just tick it ourselves\n",
    "controller = PushController(meter, exporter, 500)"
   ]
  },
  {
   "cell_type": "markdown",
   "metadata": {},
   "source": [
    "We now need to create the bytes in metric, and assign it a view (this is where we set up exemplars):"
   ]
  },
  {
   "cell_type": "code",
   "execution_count": 50,
   "metadata": {},
   "outputs": [],
   "source": [
    "\n",
    "# Create the metric that we will use\n",
    "bytes_counter = meter.create_metric(\n",
    "    name=\"bytes_counter\",\n",
    "    description=\"Number of bytes received by service\",\n",
    "    unit=\"By\",\n",
    "    value_type=int,\n",
    "    metric_type=Counter,\n",
    ")\n",
    "\n",
    "# Every time interval we will collect 100 exemplars statistically (selected without bias)\n",
    "aggregator_config = {\"num_exemplars\": 100, \"statistical_exemplars\": True}\n",
    "\n",
    "# Assign a Sum aggregator to `bytes_counter` that collects exemplars\n",
    "counter_view = View(\n",
    "    bytes_counter,\n",
    "    SumAggregator(config=aggregator_config),\n",
    "    label_keys=[\"environment\"],\n",
    "    config=ViewConfig.LABEL_KEYS,\n",
    ")\n",
    "\n",
    "meter.register_view(counter_view)"
   ]
  },
  {
   "cell_type": "markdown",
   "metadata": {},
   "source": [
    "The last thing we need to do before we can start working with exemplars is generating a large set of data for metrics.\n",
    "If the dataset is too small, we won't be able to collect a large enough subset of the input to analyze with exemplars.\n",
    "\n",
    "If this was a real application, the data would be generated through requests to/from the server."
   ]
  },
  {
   "cell_type": "code",
   "execution_count": 51,
   "metadata": {},
   "outputs": [],
   "source": [
    "## generate the random metric data\n",
    "\n",
    "def unknown_customer_calls():\n",
    "    \"\"\"Generate customer call data to our application\"\"\"\n",
    "\n",
    "    # set a random seed for consistency of data for example purposes\n",
    "    np.random.seed(1)\n",
    "    # Make exemplar selection consistent for example purposes\n",
    "    random.seed(1)\n",
    "\n",
    "    # customer 123 is a big user, and made 1000 requests in this timeframe\n",
    "    requests = np.random.normal(1000, 250, 1000) # 1000 requests with average 1000 bytes, covariance 100\n",
    "\n",
    "    for request in requests:\n",
    "        bytes_counter.add(int(request), {\"environment\": \"production\", \"method\": \"REST\", \"customer_id\": 123})\n",
    "\n",
    "    # customer 247 is another big user, making fewer, but bigger requests\n",
    "    requests = np.random.normal(5000, 1250, 200) # 200 requests with average size of 5k bytes\n",
    "\n",
    "    for request in requests:\n",
    "        bytes_counter.add(int(request), {\"environment\": \"production\", \"method\": \"REST\", \"customer_id\": 247})\n",
    "\n",
    "    # There are many other smaller customers\n",
    "    for customer_id in range(250):\n",
    "        requests = np.random.normal(1000, 250, np.random.randint(1, 10))\n",
    "        method = \"REST\" if np.random.randint(2) else \"gRPC\"\n",
    "        for request in requests:\n",
    "            bytes_counter.add(int(request), {\"environment\": \"production\", \"method\": method, \"customer_id\": customer_id})\n",
    "\n",
    "unknown_customer_calls()"
   ]
  },
  {
   "cell_type": "markdown",
   "metadata": {},
   "source": [
    "## Analyzing the Exemplars"
   ]
  },
  {
   "cell_type": "markdown",
   "metadata": {},
   "source": [
    "Let's export our metric and collect the exemplars from the outputted aggregation:"
   ]
  },
  {
   "cell_type": "code",
   "execution_count": 52,
   "metadata": {},
   "outputs": [],
   "source": [
    "# Tick the controller so it sends metrics to the exporter\n",
    "controller.tick()\n",
    "\n",
    "# collect metrics from our exporter\n",
    "metric_data = exporter.get_exported_metrics()\n",
    "\n",
    "# get the exemplars from the bytes_in counter aggregator\n",
    "aggregator = metric_data[0].aggregator\n",
    "exemplars = aggregator.checkpoint_exemplars"
   ]
  },
  {
   "cell_type": "markdown",
   "metadata": {},
   "source": [
    "One of the key values of exemplars is its ability to handle dropped labels (labels that are too high cardinality to create a new metric record for each value). \n",
    "In our application, we drop the \"customer_id\" label since there is an unbounded number of possible labels. However, with exemplars, we can still estimate stats related\n",
    "to the customer ids, for example the relative size of each customer:"
   ]
  },
  {
   "cell_type": "code",
   "execution_count": 53,
   "metadata": {},
   "outputs": [
    {
     "data": {
      "image/png": "[encoded data removed]",
      "text/plain": [
       "<Figure size 432x288 with 1 Axes>"
      ]
     },
     "metadata": {},
     "output_type": "display_data"
    }
   ],
   "source": [
    "# Sum up the total bytes in per customer from all of the exemplars collected\n",
    "customer_bytes_map = defaultdict(int)\n",
    "for exemplar in exemplars:\n",
    "    customer_bytes_map[exemplar.dropped_labels] += exemplar.value\n",
    "\n",
    "\n",
    "customer_bytes_list = sorted(list(customer_bytes_map.items()), key=lambda t: t[1], reverse=True)\n",
    "\n",
    "# Save our top 5 customers and sum all of the rest into \"Others\".\n",
    "top_5_customers = [(\"Customer {}\".format(dict(val[0])[\"customer_id\"]), val[1]) for val in customer_bytes_list[:5]] + [(\"Other Customers\", sum([val[1] for val in customer_bytes_list[5:]]))]\n",
    "\n",
    "# unzip the data into X (sizes of each customer's contribution) and labels\n",
    "labels, X = zip(*top_5_customers)\n",
    "\n",
    "# create the chart with matplotlib and show it\n",
    "plt.pie(X, labels=labels)\n",
    "plt.show()"
   ]
  },
  {
   "cell_type": "markdown",
   "metadata": {},
   "source": [
    "Running this shows that the usage of our service is relatively closely split between customer 247, customer 123, and everyone else, which lines up closely with the data that was generated.\n",
    "The more exemplars we sample, the more accurate this data will be, but also the more costly (in terms of memory usage) the metric would be.\n",
    "\n",
    "We can use the \"sample_count\" property of exemplars to predict the actual number of bytes customers sent (vs the percentage)\n",
    "For example, to predict the number of bytes customer 123 sent:"
   ]
  },
  {
   "cell_type": "code",
   "execution_count": 59,
   "metadata": {},
   "outputs": [
    {
     "name": "stdout",
     "output_type": "stream",
     "text": [
      "sample count 25.33 custmer 40474\n",
      "Customer 123 sent about 1025206 bytes this interval\n"
     ]
    }
   ],
   "source": [
    "# Estimate how many bytes customer 123 sent\n",
    "customer_123_bytes = customer_bytes_map[((\"customer_id\", 123), (\"method\", \"REST\"))]\n",
    "\n",
    "# Since the exemplars were randomly sampled, all sample_counts will be the same\n",
    "sample_count = exemplars[0].sample_count\n",
    "print(\"sample count\", sample_count, \"custmer\", customer_123_bytes)\n",
    "full_customer_123_bytes = sample_count * customer_123_bytes\n",
    "\n",
    "# With seed == 1 we get 1025206 - quite close to the statistical mean of 1000000! (more exemplars would make this estimation even more accurate)\n",
    "print(\"Customer 123 sent about {} bytes this interval\".format(int(full_customer_123_bytes)))\n"
   ]
  },
  {
   "cell_type": "code",
   "execution_count": null,
   "metadata": {},
   "outputs": [],
   "source": [
    "We could also estimate the percentage of our top 25 customers that use gRPC (another dropped label):"
   ]
  },
  {
   "cell_type": "code",
   "execution_count": 58,
   "metadata": {},
   "outputs": [
    {
     "name": "stdout",
     "output_type": "stream",
     "text": [
      "~44% of the top 25 customers (by bytes in) used gRPC this interval\n"
     ]
    }
   ],
   "source": [
    "# Determine the top 25 customers by how many bytes they sent in exemplars\n",
    "top_25_customers = customer_bytes_list[:25]\n",
    "\n",
    "# out of those 25 customers, determine how many used grpc, and come up with a ratio\n",
    "percent_grpc = len(list(filter(lambda customer_value: customer_value[0][1][1] == \"gRPC\", top_25_customers))) / len(top_25_customers)\n",
    "\n",
    "print(\"~{}% of the top 25 customers (by bytes in) used gRPC this interval\".format(int(percent_grpc*100)))\n"
   ]
  },
  {
   "cell_type": "markdown",
   "metadata": {},
   "source": [
    "The value of exemplars goes beyond just handling dropped labels, however. We can also estimate the input distribution to the `bytes_counter` metric, through histograms or quantiles:\n"
   ]
  },
  {
   "cell_type": "code",
   "execution_count": 57,
   "metadata": {},
   "outputs": [
    {
     "name": "stdout",
     "output_type": "stream",
     "text": [
      "50th Percentile Bytes In: 1031\n",
      "90th Percentile Bytes In: 1624\n",
      "99th Percentile Bytes In: 6094\n"
     ]
    }
   ],
   "source": [
    "# Determine the 50th, 90th, and 99th percentile of byte size sent in\n",
    "quantiles = np.quantile([exemplar.value for exemplar in exemplars], [0.5, 0.9, 0.99])\n",
    "print(\"50th Percentile Bytes In:\", int(quantiles[0]))\n",
    "print(\"90th Percentile Bytes In:\", int(quantiles[1]))\n",
    "print(\"99th Percentile Bytes In:\", int(quantiles[2]))"
   ]
  },
  {
   "cell_type": "markdown",
   "metadata": {},
   "source": [
    "This is only a small subset of the things that can be done with exemplars - almost any statistic \n",
    "that could be created through an aggregator on the original data can be estimated through exemplars."
   ]
  }
 ],
 "metadata": {
  "kernelspec": {
   "display_name": "jupyter3_Python_3",
   "language": "python",
   "name": "jupyter3_python_3"
  },
  "language_info": {
   "codemirror_mode": {
    "name": "ipython",
    "version": 3
   },
   "file_extension": ".py",
   "mimetype": "text/x-python",
   "name": "python",
   "nbconvert_exporter": "python",
   "pygments_lexer": "ipython3",
   "version": "3.7.3"
  }
 },
 "nbformat": 4,
 "nbformat_minor": 4
}
