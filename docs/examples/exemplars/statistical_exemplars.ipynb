{
 "cells": [
  {
   "cell_type": "markdown",
   "metadata": {},
   "source": [
    "This example will build an exemplar sample set on a \"bytes in\" counter aggregator, which just sums up the number of bytes sent into our \"application\".\n",
    "We will use these statistical exemplars to generate insights into the data that was aggregated away.\n",
    "\n",
    "We'll start by importing everything we will need from opentelemetry to create the metrics:"
   ]
  },
  {
   "cell_type": "code",
   "execution_count": 2,
   "metadata": {},
   "outputs": [],
   "source": [
    "import numpy as np\n",
    "import matplotlib.pyplot as plt\n",
    "import random\n",
    "\n",
    "from collections import defaultdict\n",
    "\n",
    "from opentelemetry import metrics\n",
    "from opentelemetry.sdk.metrics import Counter, MeterProvider\n",
    "from opentelemetry.sdk.metrics.export.aggregate import SumAggregator\n",
    "from opentelemetry.sdk.metrics.export.controller import PushController\n",
    "from opentelemetry.sdk.metrics.export.in_memory_metrics_exporter import InMemoryMetricsExporter\n",
    "from opentelemetry.sdk.metrics.view import View, ViewConfig"
   ]
  },
  {
   "cell_type": "markdown",
   "metadata": {},
   "source": [
    "We can then set up an in-memory metrics exporter so we can analyze the exemplar data in-service:"
   ]
  },
  {
   "cell_type": "code",
   "execution_count": 3,
   "metadata": {},
   "outputs": [],
   "source": [
    "## set up opentelemetry\n",
    "\n",
    "# Sets the global MeterProvider instance\n",
    "metrics.set_meter_provider(MeterProvider())\n",
    "\n",
    "meter = metrics.get_meter(__name__)\n",
    "\n",
    "# Export to a python list so we can do stats with the data\n",
    "exporter = InMemoryMetricsExporter()\n",
    "\n",
    "# instead of waiting for the controller to tick over time, we will just tick it ourselves\n",
    "controller = PushController(meter, exporter, 500)"
   ]
  },
  {
   "cell_type": "markdown",
   "metadata": {},
   "source": [
    "We now need to create the bytes in metric, and assign it a view (this is where we set up exemplars):"
   ]
  },
  {
   "cell_type": "code",
   "execution_count": 4,
   "metadata": {},
   "outputs": [],
   "source": [
    "\n",
    "# Create the metric that we will use\n",
    "bytes_counter = meter.create_metric(\n",
    "    name=\"bytes_counter\",\n",
    "    description=\"Number of bytes received by service\",\n",
    "    unit=\"By\",\n",
    "    value_type=int,\n",
    "    metric_type=Counter,\n",
    ")\n",
    "\n",
    "# Every time interval we will collect 100 exemplars statistically (selected without bias)\n",
    "aggregator_config = {\"num_exemplars\": 100, \"statistical_exemplars\": True}\n",
    "\n",
    "# Assign a Sum aggregator to `bytes_counter` that collects exemplars\n",
    "counter_view = View(\n",
    "    bytes_counter,\n",
    "    SumAggregator,\n",
    "    aggregator_config=aggregator_config,\n",
    "    label_keys=[\"environment\"],\n",
    "    view_config=ViewConfig.LABEL_KEYS,\n",
    ")\n",
    "\n",
    "meter.register_view(counter_view)"
   ]
  },
  {
   "cell_type": "markdown",
   "metadata": {},
   "source": [
    "The last thing we need to do before we can start working with exemplars is generating a large set of data for metrics.\n",
    "If the dataset is too small, we won't be able to collect a large enough subset of the input to analyze with exemplars.\n",
    "\n",
    "If this was a real application, the data would be generated through requests to/from the server."
   ]
  },
  {
   "cell_type": "code",
   "execution_count": 5,
   "metadata": {},
   "outputs": [],
   "source": [
    "## generate the random metric data\n",
    "\n",
    "def unknown_customer_calls():\n",
    "    \"\"\"Generate customer call data to our application\"\"\"\n",
    "\n",
    "    # set a random seed for consistency of data for example purposes\n",
    "    np.random.seed(1)\n",
    "    # Make exemplar selection consistent for example purposes\n",
    "    random.seed(1)\n",
    "\n",
    "    # customer 123 is a big user, and made 1000 requests in this timeframe\n",
    "    requests = np.random.normal(1000, 250, 1000) # 1000 requests with average 1000 bytes, covariance 100\n",
    "\n",
    "    for request in requests:\n",
    "        bytes_counter.add(int(request), {\"environment\": \"production\", \"method\": \"REST\", \"customer_id\": 123})\n",
    "\n",
    "    # customer 247 is another big user, making fewer, but bigger requests\n",
    "    requests = np.random.normal(5000, 1250, 200) # 200 requests with average size of 5k bytes\n",
    "\n",
    "    for request in requests:\n",
    "        bytes_counter.add(int(request), {\"environment\": \"production\", \"method\": \"REST\", \"customer_id\": 247})\n",
    "\n",
    "    # There are many other smaller customers\n",
    "    for customer_id in range(250):\n",
    "        requests = np.random.normal(1000, 250, np.random.randint(1, 10))\n",
    "        method = \"REST\" if np.random.randint(2) else \"gRPC\"\n",
    "        for request in requests:\n",
    "            bytes_counter.add(int(request), {\"environment\": \"production\", \"method\": method, \"customer_id\": customer_id})\n",
    "\n",
    "unknown_customer_calls()"
   ]
  },
  {
   "cell_type": "markdown",
   "metadata": {},
   "source": [
    "## Analyzing the Exemplars"
   ]
  },
  {
   "cell_type": "markdown",
   "metadata": {},
   "source": [
    "Let's export our metric and collect the exemplars from the outputted aggregation:"
   ]
  },
  {
   "cell_type": "code",
   "execution_count": 6,
   "metadata": {},
   "outputs": [],
   "source": [
    "# Tick the controller so it sends metrics to the exporter\n",
    "controller.tick()\n",
    "\n",
    "# collect metrics from our exporter\n",
    "metric_data = exporter.get_exported_metrics()\n",
    "\n",
    "# get the exemplars from the bytes_in counter aggregator\n",
    "aggregator = metric_data[0].aggregator\n",
    "exemplars = aggregator.checkpoint_exemplars"
   ]
  },
  {
   "cell_type": "markdown",
   "metadata": {},
   "source": [
    "One of the key values of exemplars is its ability to handle dropped labels (labels that are too high cardinality to create a new metric record for each value). \n",
    "In our application, we drop the \"customer_id\" label since there is an unbounded number of possible labels. However, with exemplars, we can still estimate stats related\n",
    "to the customer ids, for example the sizes of our top customers:"
   ]
  },
  {
   "cell_type": "code",
   "execution_count": 15,
   "metadata": {},
   "outputs": [
    {
     "output_type": "display_data",
     "data": {
      "text/plain": "<Figure size 432x288 with 1 Axes>",
      "image/svg+xml": "<?xml version=\"1.0\" encoding=\"utf-8\" standalone=\"no\"?>\n<!DOCTYPE svg PUBLIC \"-//W3C//DTD SVG 1.1//EN\"\n  \"http://www.w3.org/Graphics/SVG/1.1/DTD/svg11.dtd\">\n<!-- Created with matplotlib (https://matplotlib.org/) -->\n<svg height=\"231.84pt\" version=\"1.1\" viewBox=\"0 0 231.84 231.84\" width=\"231.84pt\" xmlns=\"http://www.w3.org/2000/svg\" xmlns:xlink=\"http://www.w3.org/1999/xlink\">\n <defs>\n  <style type=\"text/css\">\n*{stroke-linecap:butt;stroke-linejoin:round;}\n  </style>\n </defs>\n <g id=\"figure_1\">\n  <g id=\"patch_1\">\n   <path d=\"M 0 231.84 \nL 231.84 231.84 \nL 231.84 0 \nL 0 0 \nz\n\" style=\"fill:none;\"/>\n  </g>\n  <g id=\"axes_1\">\n   <g id=\"patch_2\">\n    <path d=\"M 202.896 115.92 \nC 202.896 99.703333 198.360606 83.805341 189.804347 70.029611 \nC 181.248089 56.253881 169.007244 45.14183 154.470508 37.954091 \nC 139.933771 30.766353 123.672467 27.78542 107.531401 29.349474 \nC 91.390335 30.913527 76.003883 36.961096 63.117603 46.806098 \nL 115.92 115.92 \nL 202.896 115.92 \nz\n\" style=\"fill:#1f77b4;\"/>\n   </g>\n   <g id=\"patch_3\">\n    <path d=\"M 63.117603 46.806098 \nC 52.412263 54.984881 43.752157 65.540204 37.822355 77.637073 \nC 31.892553 89.733943 28.853651 103.044741 28.946045 116.516499 \nC 29.03844 129.988257 32.259628 143.256121 38.354794 155.270519 \nC 44.449959 167.284917 53.254028 177.720464 64.070542 185.751642 \nL 115.92 115.92 \nL 63.117603 46.806098 \nz\n\" style=\"fill:#ff7f0e;\"/>\n   </g>\n   <g id=\"patch_4\">\n    <path d=\"M 64.070542 185.751642 \nC 65.488247 186.804278 66.93768 187.813496 68.416824 188.777895 \nC 69.895967 189.742293 71.404137 190.661424 72.939235 191.534009 \nL 115.92 115.92 \nL 64.070542 185.751642 \nz\n\" style=\"fill:#2ca02c;\"/>\n   </g>\n   <g id=\"patch_5\">\n    <path d=\"M 72.939235 191.534009 \nC 86.168211 199.053668 101.141821 202.9716 116.35843 202.894895 \nC 131.57504 202.81819 146.50839 198.7495 159.660885 191.096855 \nC 172.813379 183.444211 183.730146 172.472275 191.316393 159.281371 \nC 198.90264 146.090467 202.896001 131.136797 202.896 115.919994 \nL 115.92 115.92 \nL 72.939235 191.534009 \nz\n\" style=\"fill:#d62728;\"/>\n   </g>\n   <g id=\"matplotlib.axis_1\"/>\n   <g id=\"matplotlib.axis_2\"/>\n   <g id=\"legend_1\">\n    <g id=\"patch_6\">\n     <path d=\"M 100.285313 73.9125 \nL 217.64 73.9125 \nQ 219.64 73.9125 219.64 71.9125 \nL 219.64 14.2 \nQ 219.64 12.2 217.64 12.2 \nL 100.285313 12.2 \nQ 98.285313 12.2 98.285313 14.2 \nL 98.285313 71.9125 \nQ 98.285313 73.9125 100.285313 73.9125 \nz\n\" style=\"fill:#ffffff;opacity:0.8;stroke:#cccccc;stroke-linejoin:miter;\"/>\n    </g>\n    <g id=\"patch_7\">\n     <path d=\"M 102.285313 23.798437 \nL 122.285313 23.798437 \nL 122.285313 16.798437 \nL 102.285313 16.798437 \nz\n\" style=\"fill:#1f77b4;\"/>\n    </g>\n    <g id=\"text_1\">\n     <!-- Customer 247 -->\n     <defs>\n      <path d=\"M 64.40625 67.28125 \nL 64.40625 56.890625 \nQ 59.421875 61.53125 53.78125 63.8125 \nQ 48.140625 66.109375 41.796875 66.109375 \nQ 29.296875 66.109375 22.65625 58.46875 \nQ 16.015625 50.828125 16.015625 36.375 \nQ 16.015625 21.96875 22.65625 14.328125 \nQ 29.296875 6.6875 41.796875 6.6875 \nQ 48.140625 6.6875 53.78125 8.984375 \nQ 59.421875 11.28125 64.40625 15.921875 \nL 64.40625 5.609375 \nQ 59.234375 2.09375 53.4375 0.328125 \nQ 47.65625 -1.421875 41.21875 -1.421875 \nQ 24.65625 -1.421875 15.125 8.703125 \nQ 5.609375 18.84375 5.609375 36.375 \nQ 5.609375 53.953125 15.125 64.078125 \nQ 24.65625 74.21875 41.21875 74.21875 \nQ 47.75 74.21875 53.53125 72.484375 \nQ 59.328125 70.75 64.40625 67.28125 \nz\n\" id=\"DejaVuSans-67\"/>\n      <path d=\"M 8.5 21.578125 \nL 8.5 54.6875 \nL 17.484375 54.6875 \nL 17.484375 21.921875 \nQ 17.484375 14.15625 20.5 10.265625 \nQ 23.53125 6.390625 29.59375 6.390625 \nQ 36.859375 6.390625 41.078125 11.03125 \nQ 45.3125 15.671875 45.3125 23.6875 \nL 45.3125 54.6875 \nL 54.296875 54.6875 \nL 54.296875 0 \nL 45.3125 0 \nL 45.3125 8.40625 \nQ 42.046875 3.421875 37.71875 1 \nQ 33.40625 -1.421875 27.6875 -1.421875 \nQ 18.265625 -1.421875 13.375 4.4375 \nQ 8.5 10.296875 8.5 21.578125 \nz\nM 31.109375 56 \nz\n\" id=\"DejaVuSans-117\"/>\n      <path d=\"M 44.28125 53.078125 \nL 44.28125 44.578125 \nQ 40.484375 46.53125 36.375 47.5 \nQ 32.28125 48.484375 27.875 48.484375 \nQ 21.1875 48.484375 17.84375 46.4375 \nQ 14.5 44.390625 14.5 40.28125 \nQ 14.5 37.15625 16.890625 35.375 \nQ 19.28125 33.59375 26.515625 31.984375 \nL 29.59375 31.296875 \nQ 39.15625 29.25 43.1875 25.515625 \nQ 47.21875 21.78125 47.21875 15.09375 \nQ 47.21875 7.46875 41.1875 3.015625 \nQ 35.15625 -1.421875 24.609375 -1.421875 \nQ 20.21875 -1.421875 15.453125 -0.5625 \nQ 10.6875 0.296875 5.421875 2 \nL 5.421875 11.28125 \nQ 10.40625 8.6875 15.234375 7.390625 \nQ 20.0625 6.109375 24.8125 6.109375 \nQ 31.15625 6.109375 34.5625 8.28125 \nQ 37.984375 10.453125 37.984375 14.40625 \nQ 37.984375 18.0625 35.515625 20.015625 \nQ 33.0625 21.96875 24.703125 23.78125 \nL 21.578125 24.515625 \nQ 13.234375 26.265625 9.515625 29.90625 \nQ 5.8125 33.546875 5.8125 39.890625 \nQ 5.8125 47.609375 11.28125 51.796875 \nQ 16.75 56 26.8125 56 \nQ 31.78125 56 36.171875 55.265625 \nQ 40.578125 54.546875 44.28125 53.078125 \nz\n\" id=\"DejaVuSans-115\"/>\n      <path d=\"M 18.3125 70.21875 \nL 18.3125 54.6875 \nL 36.8125 54.6875 \nL 36.8125 47.703125 \nL 18.3125 47.703125 \nL 18.3125 18.015625 \nQ 18.3125 11.328125 20.140625 9.421875 \nQ 21.96875 7.515625 27.59375 7.515625 \nL 36.8125 7.515625 \nL 36.8125 0 \nL 27.59375 0 \nQ 17.1875 0 13.234375 3.875 \nQ 9.28125 7.765625 9.28125 18.015625 \nL 9.28125 47.703125 \nL 2.6875 47.703125 \nL 2.6875 54.6875 \nL 9.28125 54.6875 \nL 9.28125 70.21875 \nz\n\" id=\"DejaVuSans-116\"/>\n      <path d=\"M 30.609375 48.390625 \nQ 23.390625 48.390625 19.1875 42.75 \nQ 14.984375 37.109375 14.984375 27.296875 \nQ 14.984375 17.484375 19.15625 11.84375 \nQ 23.34375 6.203125 30.609375 6.203125 \nQ 37.796875 6.203125 41.984375 11.859375 \nQ 46.1875 17.53125 46.1875 27.296875 \nQ 46.1875 37.015625 41.984375 42.703125 \nQ 37.796875 48.390625 30.609375 48.390625 \nz\nM 30.609375 56 \nQ 42.328125 56 49.015625 48.375 \nQ 55.71875 40.765625 55.71875 27.296875 \nQ 55.71875 13.875 49.015625 6.21875 \nQ 42.328125 -1.421875 30.609375 -1.421875 \nQ 18.84375 -1.421875 12.171875 6.21875 \nQ 5.515625 13.875 5.515625 27.296875 \nQ 5.515625 40.765625 12.171875 48.375 \nQ 18.84375 56 30.609375 56 \nz\n\" id=\"DejaVuSans-111\"/>\n      <path d=\"M 52 44.1875 \nQ 55.375 50.25 60.0625 53.125 \nQ 64.75 56 71.09375 56 \nQ 79.640625 56 84.28125 50.015625 \nQ 88.921875 44.046875 88.921875 33.015625 \nL 88.921875 0 \nL 79.890625 0 \nL 79.890625 32.71875 \nQ 79.890625 40.578125 77.09375 44.375 \nQ 74.3125 48.1875 68.609375 48.1875 \nQ 61.625 48.1875 57.5625 43.546875 \nQ 53.515625 38.921875 53.515625 30.90625 \nL 53.515625 0 \nL 44.484375 0 \nL 44.484375 32.71875 \nQ 44.484375 40.625 41.703125 44.40625 \nQ 38.921875 48.1875 33.109375 48.1875 \nQ 26.21875 48.1875 22.15625 43.53125 \nQ 18.109375 38.875 18.109375 30.90625 \nL 18.109375 0 \nL 9.078125 0 \nL 9.078125 54.6875 \nL 18.109375 54.6875 \nL 18.109375 46.1875 \nQ 21.1875 51.21875 25.484375 53.609375 \nQ 29.78125 56 35.6875 56 \nQ 41.65625 56 45.828125 52.96875 \nQ 50 49.953125 52 44.1875 \nz\n\" id=\"DejaVuSans-109\"/>\n      <path d=\"M 56.203125 29.59375 \nL 56.203125 25.203125 \nL 14.890625 25.203125 \nQ 15.484375 15.921875 20.484375 11.0625 \nQ 25.484375 6.203125 34.421875 6.203125 \nQ 39.59375 6.203125 44.453125 7.46875 \nQ 49.3125 8.734375 54.109375 11.28125 \nL 54.109375 2.78125 \nQ 49.265625 0.734375 44.1875 -0.34375 \nQ 39.109375 -1.421875 33.890625 -1.421875 \nQ 20.796875 -1.421875 13.15625 6.1875 \nQ 5.515625 13.8125 5.515625 26.8125 \nQ 5.515625 40.234375 12.765625 48.109375 \nQ 20.015625 56 32.328125 56 \nQ 43.359375 56 49.78125 48.890625 \nQ 56.203125 41.796875 56.203125 29.59375 \nz\nM 47.21875 32.234375 \nQ 47.125 39.59375 43.09375 43.984375 \nQ 39.0625 48.390625 32.421875 48.390625 \nQ 24.90625 48.390625 20.390625 44.140625 \nQ 15.875 39.890625 15.1875 32.171875 \nz\n\" id=\"DejaVuSans-101\"/>\n      <path d=\"M 41.109375 46.296875 \nQ 39.59375 47.171875 37.8125 47.578125 \nQ 36.03125 48 33.890625 48 \nQ 26.265625 48 22.1875 43.046875 \nQ 18.109375 38.09375 18.109375 28.8125 \nL 18.109375 0 \nL 9.078125 0 \nL 9.078125 54.6875 \nL 18.109375 54.6875 \nL 18.109375 46.1875 \nQ 20.953125 51.171875 25.484375 53.578125 \nQ 30.03125 56 36.53125 56 \nQ 37.453125 56 38.578125 55.875 \nQ 39.703125 55.765625 41.0625 55.515625 \nz\n\" id=\"DejaVuSans-114\"/>\n      <path id=\"DejaVuSans-32\"/>\n      <path d=\"M 19.1875 8.296875 \nL 53.609375 8.296875 \nL 53.609375 0 \nL 7.328125 0 \nL 7.328125 8.296875 \nQ 12.9375 14.109375 22.625 23.890625 \nQ 32.328125 33.6875 34.8125 36.53125 \nQ 39.546875 41.84375 41.421875 45.53125 \nQ 43.3125 49.21875 43.3125 52.78125 \nQ 43.3125 58.59375 39.234375 62.25 \nQ 35.15625 65.921875 28.609375 65.921875 \nQ 23.96875 65.921875 18.8125 64.3125 \nQ 13.671875 62.703125 7.8125 59.421875 \nL 7.8125 69.390625 \nQ 13.765625 71.78125 18.9375 73 \nQ 24.125 74.21875 28.421875 74.21875 \nQ 39.75 74.21875 46.484375 68.546875 \nQ 53.21875 62.890625 53.21875 53.421875 \nQ 53.21875 48.921875 51.53125 44.890625 \nQ 49.859375 40.875 45.40625 35.40625 \nQ 44.1875 33.984375 37.640625 27.21875 \nQ 31.109375 20.453125 19.1875 8.296875 \nz\n\" id=\"DejaVuSans-50\"/>\n      <path d=\"M 37.796875 64.3125 \nL 12.890625 25.390625 \nL 37.796875 25.390625 \nz\nM 35.203125 72.90625 \nL 47.609375 72.90625 \nL 47.609375 25.390625 \nL 58.015625 25.390625 \nL 58.015625 17.1875 \nL 47.609375 17.1875 \nL 47.609375 0 \nL 37.796875 0 \nL 37.796875 17.1875 \nL 4.890625 17.1875 \nL 4.890625 26.703125 \nz\n\" id=\"DejaVuSans-52\"/>\n      <path d=\"M 8.203125 72.90625 \nL 55.078125 72.90625 \nL 55.078125 68.703125 \nL 28.609375 0 \nL 18.3125 0 \nL 43.21875 64.59375 \nL 8.203125 64.59375 \nz\n\" id=\"DejaVuSans-55\"/>\n     </defs>\n     <g transform=\"translate(130.285313 23.798437)scale(0.1 -0.1)\">\n      <use xlink:href=\"#DejaVuSans-67\"/>\n      <use x=\"69.824219\" xlink:href=\"#DejaVuSans-117\"/>\n      <use x=\"133.203125\" xlink:href=\"#DejaVuSans-115\"/>\n      <use x=\"185.302734\" xlink:href=\"#DejaVuSans-116\"/>\n      <use x=\"224.511719\" xlink:href=\"#DejaVuSans-111\"/>\n      <use x=\"285.693359\" xlink:href=\"#DejaVuSans-109\"/>\n      <use x=\"383.105469\" xlink:href=\"#DejaVuSans-101\"/>\n      <use x=\"444.628906\" xlink:href=\"#DejaVuSans-114\"/>\n      <use x=\"485.742188\" xlink:href=\"#DejaVuSans-32\"/>\n      <use x=\"517.529297\" xlink:href=\"#DejaVuSans-50\"/>\n      <use x=\"581.152344\" xlink:href=\"#DejaVuSans-52\"/>\n      <use x=\"644.775391\" xlink:href=\"#DejaVuSans-55\"/>\n     </g>\n    </g>\n    <g id=\"patch_8\">\n     <path d=\"M 102.285313 38.476562 \nL 122.285313 38.476562 \nL 122.285313 31.476562 \nL 102.285313 31.476562 \nz\n\" style=\"fill:#ff7f0e;\"/>\n    </g>\n    <g id=\"text_2\">\n     <!-- Customer 123 -->\n     <defs>\n      <path d=\"M 12.40625 8.296875 \nL 28.515625 8.296875 \nL 28.515625 63.921875 \nL 10.984375 60.40625 \nL 10.984375 69.390625 \nL 28.421875 72.90625 \nL 38.28125 72.90625 \nL 38.28125 8.296875 \nL 54.390625 8.296875 \nL 54.390625 0 \nL 12.40625 0 \nz\n\" id=\"DejaVuSans-49\"/>\n      <path d=\"M 40.578125 39.3125 \nQ 47.65625 37.796875 51.625 33 \nQ 55.609375 28.21875 55.609375 21.1875 \nQ 55.609375 10.40625 48.1875 4.484375 \nQ 40.765625 -1.421875 27.09375 -1.421875 \nQ 22.515625 -1.421875 17.65625 -0.515625 \nQ 12.796875 0.390625 7.625 2.203125 \nL 7.625 11.71875 \nQ 11.71875 9.328125 16.59375 8.109375 \nQ 21.484375 6.890625 26.8125 6.890625 \nQ 36.078125 6.890625 40.9375 10.546875 \nQ 45.796875 14.203125 45.796875 21.1875 \nQ 45.796875 27.640625 41.28125 31.265625 \nQ 36.765625 34.90625 28.71875 34.90625 \nL 20.21875 34.90625 \nL 20.21875 43.015625 \nL 29.109375 43.015625 \nQ 36.375 43.015625 40.234375 45.921875 \nQ 44.09375 48.828125 44.09375 54.296875 \nQ 44.09375 59.90625 40.109375 62.90625 \nQ 36.140625 65.921875 28.71875 65.921875 \nQ 24.65625 65.921875 20.015625 65.03125 \nQ 15.375 64.15625 9.8125 62.3125 \nL 9.8125 71.09375 \nQ 15.4375 72.65625 20.34375 73.4375 \nQ 25.25 74.21875 29.59375 74.21875 \nQ 40.828125 74.21875 47.359375 69.109375 \nQ 53.90625 64.015625 53.90625 55.328125 \nQ 53.90625 49.265625 50.4375 45.09375 \nQ 46.96875 40.921875 40.578125 39.3125 \nz\n\" id=\"DejaVuSans-51\"/>\n     </defs>\n     <g transform=\"translate(130.285313 38.476562)scale(0.1 -0.1)\">\n      <use xlink:href=\"#DejaVuSans-67\"/>\n      <use x=\"69.824219\" xlink:href=\"#DejaVuSans-117\"/>\n      <use x=\"133.203125\" xlink:href=\"#DejaVuSans-115\"/>\n      <use x=\"185.302734\" xlink:href=\"#DejaVuSans-116\"/>\n      <use x=\"224.511719\" xlink:href=\"#DejaVuSans-111\"/>\n      <use x=\"285.693359\" xlink:href=\"#DejaVuSans-109\"/>\n      <use x=\"383.105469\" xlink:href=\"#DejaVuSans-101\"/>\n      <use x=\"444.628906\" xlink:href=\"#DejaVuSans-114\"/>\n      <use x=\"485.742188\" xlink:href=\"#DejaVuSans-32\"/>\n      <use x=\"517.529297\" xlink:href=\"#DejaVuSans-49\"/>\n      <use x=\"581.152344\" xlink:href=\"#DejaVuSans-50\"/>\n      <use x=\"644.775391\" xlink:href=\"#DejaVuSans-51\"/>\n     </g>\n    </g>\n    <g id=\"patch_9\">\n     <path d=\"M 102.285313 53.154687 \nL 122.285313 53.154687 \nL 122.285313 46.154687 \nL 102.285313 46.154687 \nz\n\" style=\"fill:#2ca02c;\"/>\n    </g>\n    <g id=\"text_3\">\n     <!-- Customer 130 -->\n     <defs>\n      <path d=\"M 31.78125 66.40625 \nQ 24.171875 66.40625 20.328125 58.90625 \nQ 16.5 51.421875 16.5 36.375 \nQ 16.5 21.390625 20.328125 13.890625 \nQ 24.171875 6.390625 31.78125 6.390625 \nQ 39.453125 6.390625 43.28125 13.890625 \nQ 47.125 21.390625 47.125 36.375 \nQ 47.125 51.421875 43.28125 58.90625 \nQ 39.453125 66.40625 31.78125 66.40625 \nz\nM 31.78125 74.21875 \nQ 44.046875 74.21875 50.515625 64.515625 \nQ 56.984375 54.828125 56.984375 36.375 \nQ 56.984375 17.96875 50.515625 8.265625 \nQ 44.046875 -1.421875 31.78125 -1.421875 \nQ 19.53125 -1.421875 13.0625 8.265625 \nQ 6.59375 17.96875 6.59375 36.375 \nQ 6.59375 54.828125 13.0625 64.515625 \nQ 19.53125 74.21875 31.78125 74.21875 \nz\n\" id=\"DejaVuSans-48\"/>\n     </defs>\n     <g transform=\"translate(130.285313 53.154687)scale(0.1 -0.1)\">\n      <use xlink:href=\"#DejaVuSans-67\"/>\n      <use x=\"69.824219\" xlink:href=\"#DejaVuSans-117\"/>\n      <use x=\"133.203125\" xlink:href=\"#DejaVuSans-115\"/>\n      <use x=\"185.302734\" xlink:href=\"#DejaVuSans-116\"/>\n      <use x=\"224.511719\" xlink:href=\"#DejaVuSans-111\"/>\n      <use x=\"285.693359\" xlink:href=\"#DejaVuSans-109\"/>\n      <use x=\"383.105469\" xlink:href=\"#DejaVuSans-101\"/>\n      <use x=\"444.628906\" xlink:href=\"#DejaVuSans-114\"/>\n      <use x=\"485.742188\" xlink:href=\"#DejaVuSans-32\"/>\n      <use x=\"517.529297\" xlink:href=\"#DejaVuSans-49\"/>\n      <use x=\"581.152344\" xlink:href=\"#DejaVuSans-51\"/>\n      <use x=\"644.775391\" xlink:href=\"#DejaVuSans-48\"/>\n     </g>\n    </g>\n    <g id=\"patch_10\">\n     <path d=\"M 102.285313 67.832812 \nL 122.285313 67.832812 \nL 122.285313 60.832812 \nL 102.285313 60.832812 \nz\n\" style=\"fill:#d62728;\"/>\n    </g>\n    <g id=\"text_4\">\n     <!-- Other Customers -->\n     <defs>\n      <path d=\"M 39.40625 66.21875 \nQ 28.65625 66.21875 22.328125 58.203125 \nQ 16.015625 50.203125 16.015625 36.375 \nQ 16.015625 22.609375 22.328125 14.59375 \nQ 28.65625 6.59375 39.40625 6.59375 \nQ 50.140625 6.59375 56.421875 14.59375 \nQ 62.703125 22.609375 62.703125 36.375 \nQ 62.703125 50.203125 56.421875 58.203125 \nQ 50.140625 66.21875 39.40625 66.21875 \nz\nM 39.40625 74.21875 \nQ 54.734375 74.21875 63.90625 63.9375 \nQ 73.09375 53.65625 73.09375 36.375 \nQ 73.09375 19.140625 63.90625 8.859375 \nQ 54.734375 -1.421875 39.40625 -1.421875 \nQ 24.03125 -1.421875 14.8125 8.828125 \nQ 5.609375 19.09375 5.609375 36.375 \nQ 5.609375 53.65625 14.8125 63.9375 \nQ 24.03125 74.21875 39.40625 74.21875 \nz\n\" id=\"DejaVuSans-79\"/>\n      <path d=\"M 54.890625 33.015625 \nL 54.890625 0 \nL 45.90625 0 \nL 45.90625 32.71875 \nQ 45.90625 40.484375 42.875 44.328125 \nQ 39.84375 48.1875 33.796875 48.1875 \nQ 26.515625 48.1875 22.3125 43.546875 \nQ 18.109375 38.921875 18.109375 30.90625 \nL 18.109375 0 \nL 9.078125 0 \nL 9.078125 75.984375 \nL 18.109375 75.984375 \nL 18.109375 46.1875 \nQ 21.34375 51.125 25.703125 53.5625 \nQ 30.078125 56 35.796875 56 \nQ 45.21875 56 50.046875 50.171875 \nQ 54.890625 44.34375 54.890625 33.015625 \nz\n\" id=\"DejaVuSans-104\"/>\n     </defs>\n     <g transform=\"translate(130.285313 67.832812)scale(0.1 -0.1)\">\n      <use xlink:href=\"#DejaVuSans-79\"/>\n      <use x=\"78.710938\" xlink:href=\"#DejaVuSans-116\"/>\n      <use x=\"117.919922\" xlink:href=\"#DejaVuSans-104\"/>\n      <use x=\"181.298828\" xlink:href=\"#DejaVuSans-101\"/>\n      <use x=\"242.822266\" xlink:href=\"#DejaVuSans-114\"/>\n      <use x=\"283.935547\" xlink:href=\"#DejaVuSans-32\"/>\n      <use x=\"315.722656\" xlink:href=\"#DejaVuSans-67\"/>\n      <use x=\"385.546875\" xlink:href=\"#DejaVuSans-117\"/>\n      <use x=\"448.925781\" xlink:href=\"#DejaVuSans-115\"/>\n      <use x=\"501.025391\" xlink:href=\"#DejaVuSans-116\"/>\n      <use x=\"540.234375\" xlink:href=\"#DejaVuSans-111\"/>\n      <use x=\"601.416016\" xlink:href=\"#DejaVuSans-109\"/>\n      <use x=\"698.828125\" xlink:href=\"#DejaVuSans-101\"/>\n      <use x=\"760.351562\" xlink:href=\"#DejaVuSans-114\"/>\n      <use x=\"801.464844\" xlink:href=\"#DejaVuSans-115\"/>\n     </g>\n    </g>\n   </g>\n  </g>\n </g>\n</svg>\n",
      "image/png": "[encoded data removed]"
     },
     "metadata": {}
    }
   ],
   "source": [
    "# Sum up the total bytes in per customer from all of the exemplars collected\n",
    "customer_bytes_map = defaultdict(int)\n",
    "for exemplar in exemplars:\n",
    "    customer_bytes_map[exemplar.dropped_labels] += exemplar.value\n",
    "\n",
    "\n",
    "customer_bytes_list = sorted(list(customer_bytes_map.items()), key=lambda t: t[1], reverse=True)\n",
    "\n",
    "# Save our top 5 customers and sum all of the rest into \"Others\".\n",
    "top_3_customers = [(\"Customer {}\".format(dict(val[0])[\"customer_id\"]), val[1]) for val in customer_bytes_list[:3]] + [(\"Other Customers\", sum([val[1] for val in customer_bytes_list[3:]]))]\n",
    "\n",
    "# unzip the data into X (sizes of each customer's contribution) and labels\n",
    "labels, X = zip(*top_3_customers)\n",
    "\n",
    "# create the chart with matplotlib and show it\n",
    "plt.pie(X)\n",
    "plt.legend(labels, loc = \"upper right\") \n",
    "plt.show()"
   ]
  },
  {
   "cell_type": "markdown",
   "metadata": {},
   "source": [
    "Running this shows that the usage of our service is relatively closely split between customer 247, customer 123, and everyone else, which lines up closely with the data that was generated.\n",
    "The more exemplars we sample, the more accurate this data will be, but also the more costly (in terms of memory usage) the metric would be.\n",
    "\n",
    "We can use the \"sample_count\" property of exemplars to predict the actual number of bytes customers sent (vs the percentage)\n",
    "For example, to predict the number of bytes customer 123 sent:"
   ]
  },
  {
   "cell_type": "code",
   "execution_count": 8,
   "metadata": {},
   "outputs": [
    {
     "output_type": "stream",
     "name": "stdout",
     "text": "Customer 123 sent about 1025206 bytes this interval\n"
    }
   ],
   "source": [
    "# Estimate how many bytes customer 123 sent\n",
    "customer_123_bytes = customer_bytes_map[((\"customer_id\", 123), (\"method\", \"REST\"))]\n",
    "\n",
    "# Since the exemplars were randomly sampled, all sample_counts will be the same\n",
    "sample_count = exemplars[0].sample_count\n",
    "full_customer_123_bytes = sample_count * customer_123_bytes\n",
    "\n",
    "# With seed == 1 we get 1025206 - quite close to the statistical mean of 1000000! (more exemplars would make this estimation even more accurate)\n",
    "print(\"Customer 123 sent about {} bytes this interval\".format(int(full_customer_123_bytes)))\n"
   ]
  },
  {
   "source": [
    "We could also estimate the percentage of our top 25 customers that use gRPC (another dropped label):"
   ],
   "cell_type": "markdown",
   "metadata": {}
  },
  {
   "cell_type": "code",
   "execution_count": 10,
   "metadata": {},
   "outputs": [
    {
     "output_type": "stream",
     "name": "stdout",
     "text": "~44% of the top 25 customers (by bytes in) used gRPC this interval\n"
    }
   ],
   "source": [
    "# Determine the top 25 customers by how many bytes they sent in exemplars\n",
    "top_25_customers = customer_bytes_list[:25]\n",
    "\n",
    "# out of those 25 customers, determine how many used grpc, and come up with a ratio\n",
    "percent_grpc = len(list(filter(lambda customer_value: customer_value[0][1][1] == \"gRPC\", top_25_customers))) / len(top_25_customers)\n",
    "\n",
    "print(\"~{}% of the top 25 customers (by bytes in) used gRPC this interval\".format(int(percent_grpc*100)))\n"
   ]
  },
  {
   "cell_type": "markdown",
   "metadata": {},
   "source": [
    "The value of exemplars goes beyond just handling dropped labels, however. We can also estimate the input distribution to the `bytes_counter` metric, through histograms or quantiles:\n"
   ]
  },
  {
   "cell_type": "code",
   "execution_count": 11,
   "metadata": {},
   "outputs": [
    {
     "output_type": "stream",
     "name": "stdout",
     "text": "50th Percentile Bytes In: 1031\n90th Percentile Bytes In: 1624\n99th Percentile Bytes In: 6094\n"
    }
   ],
   "source": [
    "# Determine the 50th, 90th, and 99th percentile of byte size sent in\n",
    "quantiles = np.quantile([exemplar.value for exemplar in exemplars], [0.5, 0.9, 0.99])\n",
    "print(\"50th Percentile Bytes In:\", int(quantiles[0]))\n",
    "print(\"90th Percentile Bytes In:\", int(quantiles[1]))\n",
    "print(\"99th Percentile Bytes In:\", int(quantiles[2]))"
   ]
  },
  {
   "cell_type": "markdown",
   "metadata": {},
   "source": [
    "This is only a small subset of the things that can be done with exemplars - almost any statistic \n",
    "that could be created through an aggregator on the original data can be estimated through exemplars."
   ]
  }
 ],
 "metadata": {
  "kernelspec": {
   "display_name": "jupyter3_Python_3",
   "language": "python",
   "name": "jupyter3_python_3"
  },
  "language_info": {
   "codemirror_mode": {
    "name": "ipython",
    "version": 3
   },
   "file_extension": ".py",
   "mimetype": "text/x-python",
   "name": "python",
   "nbconvert_exporter": "python",
   "pygments_lexer": "ipython3",
   "version": "3.7.3"
  }
 },
 "nbformat": 4,
 "nbformat_minor": 4
}